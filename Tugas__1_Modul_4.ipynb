{
  "nbformat": 4,
  "nbformat_minor": 0,
  "metadata": {
    "colab": {
      "provenance": [],
      "authorship_tag": "ABX9TyN9mz0LHYthLCpBi1x21bJK"
    },
    "kernelspec": {
      "name": "python3",
      "display_name": "Python 3"
    },
    "language_info": {
      "name": "python"
    }
  },
  "cells": [
    {
      "cell_type": "markdown",
      "source": [
        "# Proyek Klasifikasi Penyakit Jantung\n",
        "\n",
        "**Author:** Putrawin Adha Muzakki  \n",
        "\n",
        "## Dataset\n",
        "\n",
        "Dataset yang digunakan adalah **UCI Heart Disease Dataset**, yang berisi 14 atribut klinis dari beberapa pusat medis.\n",
        "\n",
        "- **Sumber:** https://www.kaggle.com/datasets/imnikhilanand/heart-attack-prediction\n",
        "- **Format:** CSV (Comma-Separated Values).\n",
        "- **Karakteristik Data:**\n",
        "    - Terdiri dari fitur numerik dan kategorikal (yang sudah di-encode sebagai angka).\n",
        "    - Terdapat banyak nilai yang hilang (*missing values*) yang ditandai dengan `?`.\n",
        "    - Ditemukan adanya spasi ekstra pada nama kolom yang perlu dibersihkan.\n",
        "---\n"
      ],
      "metadata": {
        "id": "YrdIYPrx4s5Q"
      }
    },
    {
      "cell_type": "markdown",
      "source": [
        "1.  **Setup Lingkungan:**\n",
        "    - Menghubungkan Google Colab dengan Google Drive untuk akses file.\n",
        "    - Mengimpor semua library yang dibutuhkan, seperti `pandas`, `numpy`, dan `scikit-learn`."
      ],
      "metadata": {
        "id": "hwrtSL5X42Ix"
      }
    },
    {
      "cell_type": "code",
      "source": [
        "from google.colab import drive\n",
        "drive.mount('/content/drive')"
      ],
      "metadata": {
        "colab": {
          "base_uri": "https://localhost:8080/"
        },
        "id": "iQRJVAE3z8zK",
        "outputId": "ef3267e9-1792-4cd2-f203-81a3af721ed1"
      },
      "execution_count": 17,
      "outputs": [
        {
          "output_type": "stream",
          "name": "stdout",
          "text": [
            "Drive already mounted at /content/drive; to attempt to forcibly remount, call drive.mount(\"/content/drive\", force_remount=True).\n"
          ]
        }
      ]
    },
    {
      "cell_type": "code",
      "execution_count": 18,
      "metadata": {
        "id": "HbIgwnrtx6Ct"
      },
      "outputs": [],
      "source": [
        "# Import library fundamental untuk analisis data\n",
        "import pandas as pd\n",
        "import numpy as np\n",
        "\n",
        "# Import library untuk visualisasi\n",
        "import matplotlib.pyplot as plt\n",
        "import seaborn as sns\n",
        "\n",
        "# Import library dari Scikit-Learn untuk machine learning\n",
        "from sklearn.model_selection import train_test_split\n",
        "from sklearn.impute import SimpleImputer\n",
        "from sklearn.preprocessing import StandardScaler  # Kita akan tambahkan scaling\n",
        "from sklearn.linear_model import LogisticRegression\n",
        "from sklearn.ensemble import RandomForestClassifier\n",
        "from sklearn.metrics import classification_report, confusion_matrix, accuracy_score\n",
        "\n",
        "# Mengatur tampilan output pandas agar semua kolom terlihat\n",
        "pd.set_option('display.max_columns', None)"
      ]
    },
    {
      "cell_type": "markdown",
      "source": [
        "2.  **Pemuatan & Pembersihan Data Awal:**\n",
        "    - Memuat dataset dari file CSV di Google Drive.\n",
        "    - `na_values='?'` digunakan untuk secara otomatis mengonversi `?` menjadi `NaN`.\n",
        "    - **Pembersihan Nama Kolom:** Semua nama kolom dibersihkan dari spasi ekstra di awal/akhir menggunakan `str.strip()` untuk menghindari `KeyError`."
      ],
      "metadata": {
        "id": "Pew13zeW5Ty5"
      }
    },
    {
      "cell_type": "code",
      "source": [
        "# File path\n",
        "file_path = '/content/drive/MyDrive/Studi_Independen/Tugas_1_Modul_4/data.csv'\n",
        "\n",
        "# Membaca file CSV ke dalam pandas DataFrame\n",
        "df = pd.read_csv(file_path, na_values='?')\n",
        "print(\"File berhasil dimuat.\")\n",
        "print(\"Ukuran data:\", df.shape)\n",
        "\n",
        "# Membersihkan nama kolom dari spasi ekstra di awal atau akhir\n",
        "df.columns = df.columns.str.strip()\n",
        "print(\"\\nNama kolom telah dibersihkan.\")\n",
        "\n",
        "# Tampilkan 5 baris pertama dan info dataframe\n",
        "if 'df' in locals():\n",
        "    print(\"\\nData Awal (5 baris pertama):\")\n",
        "    display(df.head())\n",
        "    print(\"\\nInformasi DataFrame:\")\n",
        "    df.info()\n",
        "    print(\"\\nNama Kolom Setelah Dibersihkan:\")\n",
        "    print(df.columns.tolist()) # Menampilkan nama kolom dalam bentuk list"
      ],
      "metadata": {
        "colab": {
          "base_uri": "https://localhost:8080/",
          "height": 761
        },
        "id": "_Zi2VgRa0u4v",
        "outputId": "c00c0b24-f325-4358-e802-c40b767b5924"
      },
      "execution_count": 19,
      "outputs": [
        {
          "output_type": "stream",
          "name": "stdout",
          "text": [
            "File berhasil dimuat.\n",
            "Ukuran data: (294, 14)\n",
            "\n",
            "Nama kolom telah dibersihkan.\n",
            "\n",
            "Data Awal (5 baris pertama):\n"
          ]
        },
        {
          "output_type": "display_data",
          "data": {
            "text/plain": [
              "   age  sex  cp  trestbps   chol  fbs  restecg  thalach  exang  oldpeak  \\\n",
              "0   28    1   2     130.0  132.0  0.0      2.0    185.0    0.0      0.0   \n",
              "1   29    1   2     120.0  243.0  0.0      0.0    160.0    0.0      0.0   \n",
              "2   29    1   2     140.0    NaN  0.0      0.0    170.0    0.0      0.0   \n",
              "3   30    0   1     170.0  237.0  0.0      1.0    170.0    0.0      0.0   \n",
              "4   31    0   2     100.0  219.0  0.0      1.0    150.0    0.0      0.0   \n",
              "\n",
              "   slope  ca  thal  num  \n",
              "0    NaN NaN   NaN    0  \n",
              "1    NaN NaN   NaN    0  \n",
              "2    NaN NaN   NaN    0  \n",
              "3    NaN NaN   6.0    0  \n",
              "4    NaN NaN   NaN    0  "
            ],
            "text/html": [
              "\n",
              "  <div id=\"df-edfb804f-9bd3-4a02-a7cc-b544a1904624\" class=\"colab-df-container\">\n",
              "    <div>\n",
              "<style scoped>\n",
              "    .dataframe tbody tr th:only-of-type {\n",
              "        vertical-align: middle;\n",
              "    }\n",
              "\n",
              "    .dataframe tbody tr th {\n",
              "        vertical-align: top;\n",
              "    }\n",
              "\n",
              "    .dataframe thead th {\n",
              "        text-align: right;\n",
              "    }\n",
              "</style>\n",
              "<table border=\"1\" class=\"dataframe\">\n",
              "  <thead>\n",
              "    <tr style=\"text-align: right;\">\n",
              "      <th></th>\n",
              "      <th>age</th>\n",
              "      <th>sex</th>\n",
              "      <th>cp</th>\n",
              "      <th>trestbps</th>\n",
              "      <th>chol</th>\n",
              "      <th>fbs</th>\n",
              "      <th>restecg</th>\n",
              "      <th>thalach</th>\n",
              "      <th>exang</th>\n",
              "      <th>oldpeak</th>\n",
              "      <th>slope</th>\n",
              "      <th>ca</th>\n",
              "      <th>thal</th>\n",
              "      <th>num</th>\n",
              "    </tr>\n",
              "  </thead>\n",
              "  <tbody>\n",
              "    <tr>\n",
              "      <th>0</th>\n",
              "      <td>28</td>\n",
              "      <td>1</td>\n",
              "      <td>2</td>\n",
              "      <td>130.0</td>\n",
              "      <td>132.0</td>\n",
              "      <td>0.0</td>\n",
              "      <td>2.0</td>\n",
              "      <td>185.0</td>\n",
              "      <td>0.0</td>\n",
              "      <td>0.0</td>\n",
              "      <td>NaN</td>\n",
              "      <td>NaN</td>\n",
              "      <td>NaN</td>\n",
              "      <td>0</td>\n",
              "    </tr>\n",
              "    <tr>\n",
              "      <th>1</th>\n",
              "      <td>29</td>\n",
              "      <td>1</td>\n",
              "      <td>2</td>\n",
              "      <td>120.0</td>\n",
              "      <td>243.0</td>\n",
              "      <td>0.0</td>\n",
              "      <td>0.0</td>\n",
              "      <td>160.0</td>\n",
              "      <td>0.0</td>\n",
              "      <td>0.0</td>\n",
              "      <td>NaN</td>\n",
              "      <td>NaN</td>\n",
              "      <td>NaN</td>\n",
              "      <td>0</td>\n",
              "    </tr>\n",
              "    <tr>\n",
              "      <th>2</th>\n",
              "      <td>29</td>\n",
              "      <td>1</td>\n",
              "      <td>2</td>\n",
              "      <td>140.0</td>\n",
              "      <td>NaN</td>\n",
              "      <td>0.0</td>\n",
              "      <td>0.0</td>\n",
              "      <td>170.0</td>\n",
              "      <td>0.0</td>\n",
              "      <td>0.0</td>\n",
              "      <td>NaN</td>\n",
              "      <td>NaN</td>\n",
              "      <td>NaN</td>\n",
              "      <td>0</td>\n",
              "    </tr>\n",
              "    <tr>\n",
              "      <th>3</th>\n",
              "      <td>30</td>\n",
              "      <td>0</td>\n",
              "      <td>1</td>\n",
              "      <td>170.0</td>\n",
              "      <td>237.0</td>\n",
              "      <td>0.0</td>\n",
              "      <td>1.0</td>\n",
              "      <td>170.0</td>\n",
              "      <td>0.0</td>\n",
              "      <td>0.0</td>\n",
              "      <td>NaN</td>\n",
              "      <td>NaN</td>\n",
              "      <td>6.0</td>\n",
              "      <td>0</td>\n",
              "    </tr>\n",
              "    <tr>\n",
              "      <th>4</th>\n",
              "      <td>31</td>\n",
              "      <td>0</td>\n",
              "      <td>2</td>\n",
              "      <td>100.0</td>\n",
              "      <td>219.0</td>\n",
              "      <td>0.0</td>\n",
              "      <td>1.0</td>\n",
              "      <td>150.0</td>\n",
              "      <td>0.0</td>\n",
              "      <td>0.0</td>\n",
              "      <td>NaN</td>\n",
              "      <td>NaN</td>\n",
              "      <td>NaN</td>\n",
              "      <td>0</td>\n",
              "    </tr>\n",
              "  </tbody>\n",
              "</table>\n",
              "</div>\n",
              "    <div class=\"colab-df-buttons\">\n",
              "\n",
              "  <div class=\"colab-df-container\">\n",
              "    <button class=\"colab-df-convert\" onclick=\"convertToInteractive('df-edfb804f-9bd3-4a02-a7cc-b544a1904624')\"\n",
              "            title=\"Convert this dataframe to an interactive table.\"\n",
              "            style=\"display:none;\">\n",
              "\n",
              "  <svg xmlns=\"http://www.w3.org/2000/svg\" height=\"24px\" viewBox=\"0 -960 960 960\">\n",
              "    <path d=\"M120-120v-720h720v720H120Zm60-500h600v-160H180v160Zm220 220h160v-160H400v160Zm0 220h160v-160H400v160ZM180-400h160v-160H180v160Zm440 0h160v-160H620v160ZM180-180h160v-160H180v160Zm440 0h160v-160H620v160Z\"/>\n",
              "  </svg>\n",
              "    </button>\n",
              "\n",
              "  <style>\n",
              "    .colab-df-container {\n",
              "      display:flex;\n",
              "      gap: 12px;\n",
              "    }\n",
              "\n",
              "    .colab-df-convert {\n",
              "      background-color: #E8F0FE;\n",
              "      border: none;\n",
              "      border-radius: 50%;\n",
              "      cursor: pointer;\n",
              "      display: none;\n",
              "      fill: #1967D2;\n",
              "      height: 32px;\n",
              "      padding: 0 0 0 0;\n",
              "      width: 32px;\n",
              "    }\n",
              "\n",
              "    .colab-df-convert:hover {\n",
              "      background-color: #E2EBFA;\n",
              "      box-shadow: 0px 1px 2px rgba(60, 64, 67, 0.3), 0px 1px 3px 1px rgba(60, 64, 67, 0.15);\n",
              "      fill: #174EA6;\n",
              "    }\n",
              "\n",
              "    .colab-df-buttons div {\n",
              "      margin-bottom: 4px;\n",
              "    }\n",
              "\n",
              "    [theme=dark] .colab-df-convert {\n",
              "      background-color: #3B4455;\n",
              "      fill: #D2E3FC;\n",
              "    }\n",
              "\n",
              "    [theme=dark] .colab-df-convert:hover {\n",
              "      background-color: #434B5C;\n",
              "      box-shadow: 0px 1px 3px 1px rgba(0, 0, 0, 0.15);\n",
              "      filter: drop-shadow(0px 1px 2px rgba(0, 0, 0, 0.3));\n",
              "      fill: #FFFFFF;\n",
              "    }\n",
              "  </style>\n",
              "\n",
              "    <script>\n",
              "      const buttonEl =\n",
              "        document.querySelector('#df-edfb804f-9bd3-4a02-a7cc-b544a1904624 button.colab-df-convert');\n",
              "      buttonEl.style.display =\n",
              "        google.colab.kernel.accessAllowed ? 'block' : 'none';\n",
              "\n",
              "      async function convertToInteractive(key) {\n",
              "        const element = document.querySelector('#df-edfb804f-9bd3-4a02-a7cc-b544a1904624');\n",
              "        const dataTable =\n",
              "          await google.colab.kernel.invokeFunction('convertToInteractive',\n",
              "                                                    [key], {});\n",
              "        if (!dataTable) return;\n",
              "\n",
              "        const docLinkHtml = 'Like what you see? Visit the ' +\n",
              "          '<a target=\"_blank\" href=https://colab.research.google.com/notebooks/data_table.ipynb>data table notebook</a>'\n",
              "          + ' to learn more about interactive tables.';\n",
              "        element.innerHTML = '';\n",
              "        dataTable['output_type'] = 'display_data';\n",
              "        await google.colab.output.renderOutput(dataTable, element);\n",
              "        const docLink = document.createElement('div');\n",
              "        docLink.innerHTML = docLinkHtml;\n",
              "        element.appendChild(docLink);\n",
              "      }\n",
              "    </script>\n",
              "  </div>\n",
              "\n",
              "\n",
              "    <div id=\"df-1a581792-45d3-4482-a1db-674e3ec60ad0\">\n",
              "      <button class=\"colab-df-quickchart\" onclick=\"quickchart('df-1a581792-45d3-4482-a1db-674e3ec60ad0')\"\n",
              "                title=\"Suggest charts\"\n",
              "                style=\"display:none;\">\n",
              "\n",
              "<svg xmlns=\"http://www.w3.org/2000/svg\" height=\"24px\"viewBox=\"0 0 24 24\"\n",
              "     width=\"24px\">\n",
              "    <g>\n",
              "        <path d=\"M19 3H5c-1.1 0-2 .9-2 2v14c0 1.1.9 2 2 2h14c1.1 0 2-.9 2-2V5c0-1.1-.9-2-2-2zM9 17H7v-7h2v7zm4 0h-2V7h2v10zm4 0h-2v-4h2v4z\"/>\n",
              "    </g>\n",
              "</svg>\n",
              "      </button>\n",
              "\n",
              "<style>\n",
              "  .colab-df-quickchart {\n",
              "      --bg-color: #E8F0FE;\n",
              "      --fill-color: #1967D2;\n",
              "      --hover-bg-color: #E2EBFA;\n",
              "      --hover-fill-color: #174EA6;\n",
              "      --disabled-fill-color: #AAA;\n",
              "      --disabled-bg-color: #DDD;\n",
              "  }\n",
              "\n",
              "  [theme=dark] .colab-df-quickchart {\n",
              "      --bg-color: #3B4455;\n",
              "      --fill-color: #D2E3FC;\n",
              "      --hover-bg-color: #434B5C;\n",
              "      --hover-fill-color: #FFFFFF;\n",
              "      --disabled-bg-color: #3B4455;\n",
              "      --disabled-fill-color: #666;\n",
              "  }\n",
              "\n",
              "  .colab-df-quickchart {\n",
              "    background-color: var(--bg-color);\n",
              "    border: none;\n",
              "    border-radius: 50%;\n",
              "    cursor: pointer;\n",
              "    display: none;\n",
              "    fill: var(--fill-color);\n",
              "    height: 32px;\n",
              "    padding: 0;\n",
              "    width: 32px;\n",
              "  }\n",
              "\n",
              "  .colab-df-quickchart:hover {\n",
              "    background-color: var(--hover-bg-color);\n",
              "    box-shadow: 0 1px 2px rgba(60, 64, 67, 0.3), 0 1px 3px 1px rgba(60, 64, 67, 0.15);\n",
              "    fill: var(--button-hover-fill-color);\n",
              "  }\n",
              "\n",
              "  .colab-df-quickchart-complete:disabled,\n",
              "  .colab-df-quickchart-complete:disabled:hover {\n",
              "    background-color: var(--disabled-bg-color);\n",
              "    fill: var(--disabled-fill-color);\n",
              "    box-shadow: none;\n",
              "  }\n",
              "\n",
              "  .colab-df-spinner {\n",
              "    border: 2px solid var(--fill-color);\n",
              "    border-color: transparent;\n",
              "    border-bottom-color: var(--fill-color);\n",
              "    animation:\n",
              "      spin 1s steps(1) infinite;\n",
              "  }\n",
              "\n",
              "  @keyframes spin {\n",
              "    0% {\n",
              "      border-color: transparent;\n",
              "      border-bottom-color: var(--fill-color);\n",
              "      border-left-color: var(--fill-color);\n",
              "    }\n",
              "    20% {\n",
              "      border-color: transparent;\n",
              "      border-left-color: var(--fill-color);\n",
              "      border-top-color: var(--fill-color);\n",
              "    }\n",
              "    30% {\n",
              "      border-color: transparent;\n",
              "      border-left-color: var(--fill-color);\n",
              "      border-top-color: var(--fill-color);\n",
              "      border-right-color: var(--fill-color);\n",
              "    }\n",
              "    40% {\n",
              "      border-color: transparent;\n",
              "      border-right-color: var(--fill-color);\n",
              "      border-top-color: var(--fill-color);\n",
              "    }\n",
              "    60% {\n",
              "      border-color: transparent;\n",
              "      border-right-color: var(--fill-color);\n",
              "    }\n",
              "    80% {\n",
              "      border-color: transparent;\n",
              "      border-right-color: var(--fill-color);\n",
              "      border-bottom-color: var(--fill-color);\n",
              "    }\n",
              "    90% {\n",
              "      border-color: transparent;\n",
              "      border-bottom-color: var(--fill-color);\n",
              "    }\n",
              "  }\n",
              "</style>\n",
              "\n",
              "      <script>\n",
              "        async function quickchart(key) {\n",
              "          const quickchartButtonEl =\n",
              "            document.querySelector('#' + key + ' button');\n",
              "          quickchartButtonEl.disabled = true;  // To prevent multiple clicks.\n",
              "          quickchartButtonEl.classList.add('colab-df-spinner');\n",
              "          try {\n",
              "            const charts = await google.colab.kernel.invokeFunction(\n",
              "                'suggestCharts', [key], {});\n",
              "          } catch (error) {\n",
              "            console.error('Error during call to suggestCharts:', error);\n",
              "          }\n",
              "          quickchartButtonEl.classList.remove('colab-df-spinner');\n",
              "          quickchartButtonEl.classList.add('colab-df-quickchart-complete');\n",
              "        }\n",
              "        (() => {\n",
              "          let quickchartButtonEl =\n",
              "            document.querySelector('#df-1a581792-45d3-4482-a1db-674e3ec60ad0 button');\n",
              "          quickchartButtonEl.style.display =\n",
              "            google.colab.kernel.accessAllowed ? 'block' : 'none';\n",
              "        })();\n",
              "      </script>\n",
              "    </div>\n",
              "\n",
              "    </div>\n",
              "  </div>\n"
            ],
            "application/vnd.google.colaboratory.intrinsic+json": {
              "type": "dataframe",
              "summary": "{\n  \"name\": \"    print(df\",\n  \"rows\": 5,\n  \"fields\": [\n    {\n      \"column\": \"age\",\n      \"properties\": {\n        \"dtype\": \"number\",\n        \"std\": 1,\n        \"min\": 28,\n        \"max\": 31,\n        \"num_unique_values\": 4,\n        \"samples\": [\n          29,\n          31,\n          28\n        ],\n        \"semantic_type\": \"\",\n        \"description\": \"\"\n      }\n    },\n    {\n      \"column\": \"sex\",\n      \"properties\": {\n        \"dtype\": \"number\",\n        \"std\": 0,\n        \"min\": 0,\n        \"max\": 1,\n        \"num_unique_values\": 2,\n        \"samples\": [\n          0,\n          1\n        ],\n        \"semantic_type\": \"\",\n        \"description\": \"\"\n      }\n    },\n    {\n      \"column\": \"cp\",\n      \"properties\": {\n        \"dtype\": \"number\",\n        \"std\": 0,\n        \"min\": 1,\n        \"max\": 2,\n        \"num_unique_values\": 2,\n        \"samples\": [\n          1,\n          2\n        ],\n        \"semantic_type\": \"\",\n        \"description\": \"\"\n      }\n    },\n    {\n      \"column\": \"trestbps\",\n      \"properties\": {\n        \"dtype\": \"number\",\n        \"std\": 25.88435821108957,\n        \"min\": 100.0,\n        \"max\": 170.0,\n        \"num_unique_values\": 5,\n        \"samples\": [\n          120.0,\n          100.0\n        ],\n        \"semantic_type\": \"\",\n        \"description\": \"\"\n      }\n    },\n    {\n      \"column\": \"chol\",\n      \"properties\": {\n        \"dtype\": \"number\",\n        \"std\": 51.51941381654104,\n        \"min\": 132.0,\n        \"max\": 243.0,\n        \"num_unique_values\": 4,\n        \"samples\": [\n          243.0,\n          219.0\n        ],\n        \"semantic_type\": \"\",\n        \"description\": \"\"\n      }\n    },\n    {\n      \"column\": \"fbs\",\n      \"properties\": {\n        \"dtype\": \"number\",\n        \"std\": 0.0,\n        \"min\": 0.0,\n        \"max\": 0.0,\n        \"num_unique_values\": 1,\n        \"samples\": [\n          0.0\n        ],\n        \"semantic_type\": \"\",\n        \"description\": \"\"\n      }\n    },\n    {\n      \"column\": \"restecg\",\n      \"properties\": {\n        \"dtype\": \"number\",\n        \"std\": 0.8366600265340756,\n        \"min\": 0.0,\n        \"max\": 2.0,\n        \"num_unique_values\": 3,\n        \"samples\": [\n          2.0\n        ],\n        \"semantic_type\": \"\",\n        \"description\": \"\"\n      }\n    },\n    {\n      \"column\": \"thalach\",\n      \"properties\": {\n        \"dtype\": \"number\",\n        \"std\": 13.038404810405298,\n        \"min\": 150.0,\n        \"max\": 185.0,\n        \"num_unique_values\": 4,\n        \"samples\": [\n          160.0\n        ],\n        \"semantic_type\": \"\",\n        \"description\": \"\"\n      }\n    },\n    {\n      \"column\": \"exang\",\n      \"properties\": {\n        \"dtype\": \"number\",\n        \"std\": 0.0,\n        \"min\": 0.0,\n        \"max\": 0.0,\n        \"num_unique_values\": 1,\n        \"samples\": [\n          0.0\n        ],\n        \"semantic_type\": \"\",\n        \"description\": \"\"\n      }\n    },\n    {\n      \"column\": \"oldpeak\",\n      \"properties\": {\n        \"dtype\": \"number\",\n        \"std\": 0.0,\n        \"min\": 0.0,\n        \"max\": 0.0,\n        \"num_unique_values\": 1,\n        \"samples\": [\n          0.0\n        ],\n        \"semantic_type\": \"\",\n        \"description\": \"\"\n      }\n    },\n    {\n      \"column\": \"slope\",\n      \"properties\": {\n        \"dtype\": \"number\",\n        \"std\": null,\n        \"min\": null,\n        \"max\": null,\n        \"num_unique_values\": 0,\n        \"samples\": [],\n        \"semantic_type\": \"\",\n        \"description\": \"\"\n      }\n    },\n    {\n      \"column\": \"ca\",\n      \"properties\": {\n        \"dtype\": \"number\",\n        \"std\": null,\n        \"min\": null,\n        \"max\": null,\n        \"num_unique_values\": 0,\n        \"samples\": [],\n        \"semantic_type\": \"\",\n        \"description\": \"\"\n      }\n    },\n    {\n      \"column\": \"thal\",\n      \"properties\": {\n        \"dtype\": \"number\",\n        \"std\": null,\n        \"min\": 6.0,\n        \"max\": 6.0,\n        \"num_unique_values\": 1,\n        \"samples\": [],\n        \"semantic_type\": \"\",\n        \"description\": \"\"\n      }\n    },\n    {\n      \"column\": \"num\",\n      \"properties\": {\n        \"dtype\": \"number\",\n        \"std\": 0,\n        \"min\": 0,\n        \"max\": 0,\n        \"num_unique_values\": 1,\n        \"samples\": [],\n        \"semantic_type\": \"\",\n        \"description\": \"\"\n      }\n    }\n  ]\n}"
            }
          },
          "metadata": {}
        },
        {
          "output_type": "stream",
          "name": "stdout",
          "text": [
            "\n",
            "Informasi DataFrame:\n",
            "<class 'pandas.core.frame.DataFrame'>\n",
            "RangeIndex: 294 entries, 0 to 293\n",
            "Data columns (total 14 columns):\n",
            " #   Column    Non-Null Count  Dtype  \n",
            "---  ------    --------------  -----  \n",
            " 0   age       294 non-null    int64  \n",
            " 1   sex       294 non-null    int64  \n",
            " 2   cp        294 non-null    int64  \n",
            " 3   trestbps  293 non-null    float64\n",
            " 4   chol      271 non-null    float64\n",
            " 5   fbs       286 non-null    float64\n",
            " 6   restecg   293 non-null    float64\n",
            " 7   thalach   293 non-null    float64\n",
            " 8   exang     293 non-null    float64\n",
            " 9   oldpeak   294 non-null    float64\n",
            " 10  slope     104 non-null    float64\n",
            " 11  ca        3 non-null      float64\n",
            " 12  thal      28 non-null     float64\n",
            " 13  num       294 non-null    int64  \n",
            "dtypes: float64(10), int64(4)\n",
            "memory usage: 32.3 KB\n",
            "\n",
            "Nama Kolom Setelah Dibersihkan:\n",
            "['age', 'sex', 'cp', 'trestbps', 'chol', 'fbs', 'restecg', 'thalach', 'exang', 'oldpeak', 'slope', 'ca', 'thal', 'num']\n"
          ]
        }
      ]
    },
    {
      "cell_type": "markdown",
      "source": [
        "3.  **Preprocessing Data:**\n",
        "    - **Penghapusan Kolom:** Kolom `slope`, `ca`, dan `thal` dihapus karena memiliki jumlah *missing values* yang sangat tinggi, sehingga tidak informatif.\n",
        "    - **Pemisahan Data (Train-Test Split):** Data dipisahkan menjadi 80% data training dan 20% data testing **sebelum** proses imputasi dan scaling. Langkah ini krusial untuk mencegah *data leakage*.\n",
        "    - **Imputasi Nilai Hilang:** `SimpleImputer` dengan strategi `median` digunakan untuk mengisi semua nilai `NaN` yang tersisa di seluruh fitur. Imputer di-*fit* hanya pada data training.\n",
        "    - **Feature Scaling:** `StandardScaler` diterapkan untuk menormalkan skala semua fitur, yang penting untuk performa model linear seperti Logistic Regression. Scaler juga di-*fit* hanya pada data training."
      ],
      "metadata": {
        "id": "VNV0GDn55fPG"
      }
    },
    {
      "cell_type": "code",
      "source": [
        "# Cek jumlah data yang hilang (missing values) di setiap kolom\n",
        "print(\"Jumlah Missing Values per Kolom (Awal):\")\n",
        "print(df.isnull().sum())\n",
        "print(\"-\" * 30)\n",
        "\n",
        "# Hapus kolom yang terlalu banyak data hilang\n",
        "df_processed = df.drop(columns=['slope', 'ca', 'thal'])\n",
        "\n",
        "# Pisahkan fitur (X) dan target (y)\n",
        "X = df_processed.drop('num', axis=1)\n",
        "y = df_processed['num']\n",
        "\n",
        "# Bagi data menjadi data training dan testingG\n",
        "X_train, X_test, y_train, y_test = train_test_split(X, y, test_size=0.2, random_state=42, stratify=y)\n",
        "\n",
        "print(f\"Ukuran X_train: {X_train.shape}\")\n",
        "print(f\"Ukuran X_test: {X_test.shape}\")"
      ],
      "metadata": {
        "colab": {
          "base_uri": "https://localhost:8080/"
        },
        "id": "ERFJI97y1TZJ",
        "outputId": "437c98c9-1b80-4687-fb41-d2aabc2cc6e4"
      },
      "execution_count": 20,
      "outputs": [
        {
          "output_type": "stream",
          "name": "stdout",
          "text": [
            "Jumlah Missing Values per Kolom (Awal):\n",
            "age           0\n",
            "sex           0\n",
            "cp            0\n",
            "trestbps      1\n",
            "chol         23\n",
            "fbs           8\n",
            "restecg       1\n",
            "thalach       1\n",
            "exang         1\n",
            "oldpeak       0\n",
            "slope       190\n",
            "ca          291\n",
            "thal        266\n",
            "num           0\n",
            "dtype: int64\n",
            "------------------------------\n",
            "Ukuran X_train: (235, 10)\n",
            "Ukuran X_test: (59, 10)\n"
          ]
        }
      ]
    },
    {
      "cell_type": "code",
      "source": [
        "# Buat instance Imputer dan Scaler\n",
        "imputer = SimpleImputer(strategy='median')\n",
        "scaler = StandardScaler()\n",
        "\n",
        "# Fit dan Transform pada Data Training\n",
        "X_train_imputed = imputer.fit_transform(X_train)\n",
        "X_train_scaled = scaler.fit_transform(X_train_imputed)\n",
        "\n",
        "# Transform pada Data Testing\n",
        "# Menggunakan median dan standar deviasi yang sudah dipelajari dari data training\n",
        "X_test_imputed = imputer.transform(X_test)\n",
        "X_test_scaled = scaler.transform(X_test_imputed)\n",
        "\n",
        "# Konfirmasi akhir bahwa tidak ada lagi NaN di data training\n",
        "print(\"Jumlah NaN di X_train_scaled setelah preprocessing:\", np.isnan(X_train_scaled).sum())\n",
        "print(\"Jumlah NaN di X_test_scaled setelah preprocessing:\", np.isnan(X_test_scaled).sum())"
      ],
      "metadata": {
        "colab": {
          "base_uri": "https://localhost:8080/"
        },
        "id": "jBnj1_Ll1lh9",
        "outputId": "42380d8a-42f1-4a90-d373-351166ff9fa3"
      },
      "execution_count": 21,
      "outputs": [
        {
          "output_type": "stream",
          "name": "stdout",
          "text": [
            "Jumlah NaN di X_train_scaled setelah preprocessing: 0\n",
            "Jumlah NaN di X_test_scaled setelah preprocessing: 0\n"
          ]
        }
      ]
    },
    {
      "cell_type": "markdown",
      "source": [
        "4.  **Pemodelan (Modeling):**\n",
        "    - Dua model klasifikasi dievaluasi:\n",
        "        1.  **Logistic Regression:** Sebagai model *baseline* yang sederhana dan mudah diinterpretasikan.\n",
        "        2.  **Random Forest Classifier:** Sebagai model *ensemble* yang lebih kompleks untuk perbandingan."
      ],
      "metadata": {
        "id": "mUdhn_cQ5phZ"
      }
    },
    {
      "cell_type": "code",
      "source": [
        "# Inisialisasi model\n",
        "log_reg = LogisticRegression(max_iter=1000, random_state=42)\n",
        "\n",
        "# Latih model menggunakan data training yang sudah di-scaling\n",
        "log_reg.fit(X_train_scaled, y_train)\n",
        "\n",
        "# Buat prediksi pada data testing yang sudah di-scaling\n",
        "y_pred_log_reg = log_reg.predict(X_test_scaled)\n",
        "\n",
        "# Evaluasi performa model\n",
        "print(\"--- Hasil Evaluasi: Logistic Regression ---\")\n",
        "print(f\"Accuracy: {accuracy_score(y_test, y_pred_log_reg):.4f}\")\n",
        "print(\"\\nClassification Report:\\n\", classification_report(y_test, y_pred_log_reg))\n",
        "print(\"\\nConfusion Matrix:\")\n",
        "sns.heatmap(confusion_matrix(y_test, y_pred_log_reg), annot=True, fmt='d', cmap='Blues')\n",
        "plt.show()"
      ],
      "metadata": {
        "colab": {
          "base_uri": "https://localhost:8080/",
          "height": 690
        },
        "id": "gLMd44-B2ttC",
        "outputId": "3c9bbd33-e60c-4282-a435-6ab1daed93c1"
      },
      "execution_count": 22,
      "outputs": [
        {
          "output_type": "stream",
          "name": "stdout",
          "text": [
            "--- Hasil Evaluasi: Logistic Regression ---\n",
            "Accuracy: 0.8475\n",
            "\n",
            "Classification Report:\n",
            "               precision    recall  f1-score   support\n",
            "\n",
            "           0       0.87      0.89      0.88        38\n",
            "           1       0.80      0.76      0.78        21\n",
            "\n",
            "    accuracy                           0.85        59\n",
            "   macro avg       0.84      0.83      0.83        59\n",
            "weighted avg       0.85      0.85      0.85        59\n",
            "\n",
            "\n",
            "Confusion Matrix:\n"
          ]
        },
        {
          "output_type": "display_data",
          "data": {
            "text/plain": [
              "<Figure size 640x480 with 2 Axes>"
            ],
            "image/png": "[encoded data removed]"
          },
          "metadata": {}
        }
      ]
    },
    {
      "cell_type": "code",
      "source": [
        "# Inisialisasi model\n",
        "rf_clf = RandomForestClassifier(n_estimators=100, random_state=42)\n",
        "\n",
        "# Latih model\n",
        "rf_clf.fit(X_train_scaled, y_train)\n",
        "\n",
        "# Buat prediksi\n",
        "y_pred_rf = rf_clf.predict(X_test_scaled)\n",
        "\n",
        "# Evaluasi performa model\n",
        "print(\"--- Hasil Evaluasi: Random Forest Classifier ---\")\n",
        "print(f\"Accuracy: {accuracy_score(y_test, y_pred_rf):.4f}\")\n",
        "print(\"\\nClassification Report:\\n\", classification_report(y_test, y_pred_rf))\n",
        "print(\"\\nConfusion Matrix:\")\n",
        "sns.heatmap(confusion_matrix(y_test, y_pred_rf), annot=True, fmt='d', cmap='Blues')\n",
        "plt.show()"
      ],
      "metadata": {
        "colab": {
          "base_uri": "https://localhost:8080/",
          "height": 690
        },
        "id": "rW0IwRV33vWV",
        "outputId": "9c189847-1210-4c0d-8ac9-28202a79b863"
      },
      "execution_count": 23,
      "outputs": [
        {
          "output_type": "stream",
          "name": "stdout",
          "text": [
            "--- Hasil Evaluasi: Random Forest Classifier ---\n",
            "Accuracy: 0.7627\n",
            "\n",
            "Classification Report:\n",
            "               precision    recall  f1-score   support\n",
            "\n",
            "           0       0.79      0.87      0.82        38\n",
            "           1       0.71      0.57      0.63        21\n",
            "\n",
            "    accuracy                           0.76        59\n",
            "   macro avg       0.75      0.72      0.73        59\n",
            "weighted avg       0.76      0.76      0.76        59\n",
            "\n",
            "\n",
            "Confusion Matrix:\n"
          ]
        },
        {
          "output_type": "display_data",
          "data": {
            "text/plain": [
              "<Figure size 640x480 with 2 Axes>"
            ],
            "image/png": "[encoded data removed]"
          },
          "metadata": {}
        }
      ]
    },
    {
      "cell_type": "markdown",
      "source": [
        "## 4. Hasil & Pembahasan\n",
        "\n",
        "| Model | Accuracy | Recall (Kelas 1) | Precision (Kelas 1) | False Negatives (FN) |\n",
        "| :--- | :---: | :---: | :---: | :---: |\n",
        "| **Logistic Regression** | **~85%** | **76%** | **80%** | **5** |\n",
        "| Random Forest Classifier | ~76% | 57% | 71% | 9 |\n",
        "\n",
        "- **Logistic Regression** menunjukkan performa yang **secara signifikan lebih baik** di semua metrik penting.\n",
        "- **Random Forest Classifier** memiliki performa yang lebih buruk, kemungkinan besar karena **overfitting** pada dataset yang relatif kecil. Recall untuk kelas 1 sangat rendah (57%), yang berarti model ini melewatkan 43% pasien yang sakit, membuatnya tidak dapat diandalkan.\n"
      ],
      "metadata": {
        "id": "FCn7ddZ26BoX"
      }
    }
  ]
}