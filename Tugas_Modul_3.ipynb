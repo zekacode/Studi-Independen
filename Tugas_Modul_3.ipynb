{
  "nbformat": 4,
  "nbformat_minor": 0,
  "metadata": {
    "colab": {
      "provenance": []
    },
    "kernelspec": {
      "name": "python3",
      "display_name": "Python 3"
    },
    "language_info": {
      "name": "python"
    }
  },
  "cells": [
    {
      "cell_type": "markdown",
      "source": [
        "Hello World, this is Putrawin Adha Muzakki  \n",
        "Data Science & GenerativeAI"
      ],
      "metadata": {
        "id": "Zm0qUd60QKFM"
      }
    },
    {
      "cell_type": "markdown",
      "source": [
        "1, Buat variabel berikut:  \n",
        "> template = \"Halo, {}\"  \n",
        "list_nama = [\"Joe\", \"Bob\", \"David\"]  \n",
        "\n",
        "Buat code dengan output yang diharapkan:  \n",
        "> Halo, Joe  \n",
        "Halo, Bob  \n",
        "Halo, David  bold text\n",
        "\n",
        "(Hint: gunakan for loop dan string injection)\n"
      ],
      "metadata": {
        "id": "YcTI1W9UQGQP"
      }
    },
    {
      "cell_type": "code",
      "source": [
        "# Inisialisasi variabel\n",
        "list_nama = [\"Joe\", \"Bob\", \"David\"]\n",
        "\n",
        "# Melakukan iterasi (looping) untuk setiap nama dalam list dan mencetak hasilnya\n",
        "for nama in list_nama:\n",
        "    print(f\"Halo, {nama}\")"
      ],
      "metadata": {
        "colab": {
          "base_uri": "https://localhost:8080/"
        },
        "id": "WnlztPqJSKNr",
        "outputId": "cfe1bb1a-4715-4fd7-dc8f-6c0e5f79ebb8"
      },
      "execution_count": 3,
      "outputs": [
        {
          "output_type": "stream",
          "name": "stdout",
          "text": [
            "Halo, Joe\n",
            "Halo, Bob\n",
            "Halo, David\n"
          ]
        }
      ]
    },
    {
      "cell_type": "markdown",
      "source": [
        "\n",
        "\n",
        "---\n",
        "\n",
        "\n",
        "\n"
      ],
      "metadata": {
        "id": "tzsglmWGSmjM"
      }
    },
    {
      "cell_type": "markdown",
      "source": [
        "2, Buat variabel berikut:  \n",
        "list_input = [2, “4”, 6]  \n",
        "Buat fungsi berikut:  \n",
        "> def operation(x_input):  \n",
        "    return x+2\n",
        "\n",
        "Terapkan fungsi operation ke semua elemen di dalam list, tanpa mengubah tipe dan value variabel.  \n",
        "Output yang diharapkan:  \n",
        "> 4  \n",
        "Maaf input harus int atau float  \n",
        "8  \n",
        "\n",
        "(Hint: gunakan for loop dan try-except)\n"
      ],
      "metadata": {
        "id": "yjAArF18Ss5k"
      }
    },
    {
      "cell_type": "code",
      "source": [
        "# Inisialisasi variabel\n",
        "list_input = [2, \"4\", 6]\n",
        "\n",
        "# Definisi fungsi\n",
        "def operation(x_input):\n",
        "    return x_input + 2\n",
        "\n",
        "# Menerapkan fungsi ke semua elemen list menggunakan for loop dan try-except\n",
        "for item in list_input:\n",
        "    try:\n",
        "        # Mencoba menjalankan operasi yang berpotensi gagal\n",
        "        hasil = operation(item)\n",
        "        print(hasil)\n",
        "    except TypeError:\n",
        "        # Blok ini hanya akan dieksekusi jika terjadi TypeError di dalam blok 'try'\n",
        "        # TypeError terjadi saat mencoba menjumlahkan string dengan integer (\"4\" + 2)\n",
        "        print(\"Maaf input harus int atau float\")"
      ],
      "metadata": {
        "colab": {
          "base_uri": "https://localhost:8080/"
        },
        "id": "w9jg0d7BS8ZU",
        "outputId": "3e0f7155-fd66-4575-e782-34e4075e22cb"
      },
      "execution_count": 8,
      "outputs": [
        {
          "output_type": "stream",
          "name": "stdout",
          "text": [
            "4\n",
            "Maaf input harus int atau float\n",
            "8\n"
          ]
        }
      ]
    },
    {
      "cell_type": "markdown",
      "source": [
        "---"
      ],
      "metadata": {
        "id": "pK112-rfYFGd"
      }
    },
    {
      "cell_type": "markdown",
      "source": [
        "3, Buatlah for loop untuk angka 1 sampai 100 dengan kondisi berikut:  \n",
        "Setiap kelipatan 7 maka output haruslah “BINGO”  \n",
        "Contoh output yang diharapkan:  \n",
        ">1  \n",
        "2  \n",
        "3  \n",
        "4  \n",
        "5  \n",
        "6  \n",
        "BINGO  \n",
        "8  \n",
        "9  \n",
        "10  \n",
        "11  \n",
        "12  \n",
        "13  \n",
        "BINGO  \n",
        "15  \n",
        "dst  \n",
        "\n",
        "(Hint: gunakan for loop dan operasi modulo)\n"
      ],
      "metadata": {
        "id": "osb42tnoYGcb"
      }
    },
    {
      "cell_type": "code",
      "source": [
        "# Inisialisasi range\n",
        "for angka in range(1, 101):\n",
        "    # Memeriksa apakah 'angka' habis dibagi 7\n",
        "    if angka % 7 == 0:\n",
        "        # Jika kondisi terpenuhi (angka adalah kelipatan 7), cetak \"BINGO\"\n",
        "        print(\"BINGO\")\n",
        "    else:\n",
        "        # Jika kondisi tidak terpenuhi, cetak angka itu sendiri\n",
        "        print(angka)"
      ],
      "metadata": {
        "colab": {
          "base_uri": "https://localhost:8080/"
        },
        "id": "Lh7qq0XaYdo0",
        "outputId": "d3f83f55-4535-4faa-db04-adbc4c8397d1"
      },
      "execution_count": 9,
      "outputs": [
        {
          "output_type": "stream",
          "name": "stdout",
          "text": [
            "1\n",
            "2\n",
            "3\n",
            "4\n",
            "5\n",
            "6\n",
            "BINGO\n",
            "8\n",
            "9\n",
            "10\n",
            "11\n",
            "12\n",
            "13\n",
            "BINGO\n",
            "15\n",
            "16\n",
            "17\n",
            "18\n",
            "19\n",
            "20\n",
            "BINGO\n",
            "22\n",
            "23\n",
            "24\n",
            "25\n",
            "26\n",
            "27\n",
            "BINGO\n",
            "29\n",
            "30\n",
            "31\n",
            "32\n",
            "33\n",
            "34\n",
            "BINGO\n",
            "36\n",
            "37\n",
            "38\n",
            "39\n",
            "40\n",
            "41\n",
            "BINGO\n",
            "43\n",
            "44\n",
            "45\n",
            "46\n",
            "47\n",
            "48\n",
            "BINGO\n",
            "50\n",
            "51\n",
            "52\n",
            "53\n",
            "54\n",
            "55\n",
            "BINGO\n",
            "57\n",
            "58\n",
            "59\n",
            "60\n",
            "61\n",
            "62\n",
            "BINGO\n",
            "64\n",
            "65\n",
            "66\n",
            "67\n",
            "68\n",
            "69\n",
            "BINGO\n",
            "71\n",
            "72\n",
            "73\n",
            "74\n",
            "75\n",
            "76\n",
            "BINGO\n",
            "78\n",
            "79\n",
            "80\n",
            "81\n",
            "82\n",
            "83\n",
            "BINGO\n",
            "85\n",
            "86\n",
            "87\n",
            "88\n",
            "89\n",
            "90\n",
            "BINGO\n",
            "92\n",
            "93\n",
            "94\n",
            "95\n",
            "96\n",
            "97\n",
            "BINGO\n",
            "99\n",
            "100\n"
          ]
        }
      ]
    },
    {
      "cell_type": "markdown",
      "source": [
        "---"
      ],
      "metadata": {
        "id": "CTh_mDoiZkFX"
      }
    },
    {
      "cell_type": "markdown",
      "source": [
        "4, Diberikan suatu data teks satu paragraf berbahasa Indonesia.  \n",
        "> Diabetes merupakan penyakit kronis yang dapat menimbulkan berbagai komplikasi serius jika tidak dikelola dengan baik. Kadar gula darah yang tinggi dalam jangka panjang dapat merusak pembuluh darah dan saraf, meningkatkan risiko penyakit jantung, stroke, gagal ginjal, gangguan penglihatan, hingga amputasi akibat luka yang sulit sembuh. Selain itu, diabetes juga dapat melemahkan sistem kekebalan tubuh, membuat penderitanya lebih rentan terhadap infeksi. Oleh karena itu, penting untuk menjaga pola makan sehat, rutin berolahraga, serta memantau kadar gula darah secara berkala guna mencegah atau mengendalikan penyakit ini.\n",
        "\n",
        "Dari paragraf tersebut, lakukan:\n",
        "> Hitung berapa total jumlah kata yang ada pada paragraf tersebut.\n",
        "Ganti semua kata “diabetes” dengan “diabetes melitus”\n",
        "\n",
        "(Hint: gunakan perintah len(), .split(), dan .replace())\n"
      ],
      "metadata": {
        "id": "Yshob391ZnEo"
      }
    },
    {
      "cell_type": "code",
      "source": [
        "# Inisialisasi paragraf\n",
        "paragraf = \"\"\"Diabetes merupakan penyakit kronis yang dapat menimbulkan berbagai komplikasi serius jika tidak dikelola dengan baik. Kadar gula darah yang tinggi dalam jangka panjang dapat merusak pembuluh darah dan saraf, meningkatkan risiko penyakit jantung, stroke, gagal ginjal, gangguan penglihatan, hingga amputasi akibat luka yang sulit sembuh. Selain itu, diabetes juga dapat melemahkan sistem kekebalan tubuh, membuat penderitanya lebih rentan terhadap infeksi. Oleh karena itu, penting untuk menjaga pola makan sehat, rutin berolahraga, serta memantau kadar gula darah secara berkala guna mencegah atau mengendalikan penyakit ini.\"\"\"\n",
        "\n",
        "# Menampilkan paragraf asli untuk referensi\n",
        "print(\"--- Paragraf Asli ---\")\n",
        "print(paragraf)\n",
        "print(\"-\" * 25) # Pemisah agar rapi\n",
        "\n",
        "# Menghitung Jumlah Kata\n",
        "kata_list = paragraf.split()\n",
        "jumlah_kata = len(kata_list)\n",
        "\n",
        "# Menampilkan hasil perhitungan\n",
        "print(f\"Total jumlah kata pada paragraf tersebut adalah: {jumlah_kata}\")\n",
        "print(\"-\" * 25)\n",
        "\n",
        "# Mengganti Kata \"diabetes\"\n",
        "paragraf_lower = paragraf.lower()\n",
        "paragraf_baru = paragraf_lower.replace(\"diabetes\", \"diabetes melitus\")\n",
        "\n",
        "# Menampilkan paragraf setelah penggantian\n",
        "print(\"--- Paragraf Setelah Penggantian Kata ---\")\n",
        "print(paragraf_baru)\n",
        "print(\"-\" * 25)"
      ],
      "metadata": {
        "colab": {
          "base_uri": "https://localhost:8080/"
        },
        "id": "gAMPTLNgZ6e9",
        "outputId": "c9d63348-707d-4e21-806a-f1520e57cf64"
      },
      "execution_count": 14,
      "outputs": [
        {
          "output_type": "stream",
          "name": "stdout",
          "text": [
            "--- Paragraf Asli ---\n",
            "Diabetes merupakan penyakit kronis yang dapat menimbulkan berbagai komplikasi serius jika tidak dikelola dengan baik. Kadar gula darah yang tinggi dalam jangka panjang dapat merusak pembuluh darah dan saraf, meningkatkan risiko penyakit jantung, stroke, gagal ginjal, gangguan penglihatan, hingga amputasi akibat luka yang sulit sembuh. Selain itu, diabetes juga dapat melemahkan sistem kekebalan tubuh, membuat penderitanya lebih rentan terhadap infeksi. Oleh karena itu, penting untuk menjaga pola makan sehat, rutin berolahraga, serta memantau kadar gula darah secara berkala guna mencegah atau mengendalikan penyakit ini.\n",
            "-------------------------\n",
            "Total jumlah kata pada paragraf tersebut adalah: 84\n",
            "-------------------------\n",
            "--- Paragraf Setelah Penggantian Kata ---\n",
            "diabetes melitus merupakan penyakit kronis yang dapat menimbulkan berbagai komplikasi serius jika tidak dikelola dengan baik. kadar gula darah yang tinggi dalam jangka panjang dapat merusak pembuluh darah dan saraf, meningkatkan risiko penyakit jantung, stroke, gagal ginjal, gangguan penglihatan, hingga amputasi akibat luka yang sulit sembuh. selain itu, diabetes melitus juga dapat melemahkan sistem kekebalan tubuh, membuat penderitanya lebih rentan terhadap infeksi. oleh karena itu, penting untuk menjaga pola makan sehat, rutin berolahraga, serta memantau kadar gula darah secara berkala guna mencegah atau mengendalikan penyakit ini.\n",
            "-------------------------\n"
          ]
        }
      ]
    },
    {
      "cell_type": "markdown",
      "source": [
        "---"
      ],
      "metadata": {
        "id": "6B87A1pQcmUx"
      }
    },
    {
      "cell_type": "markdown",
      "source": [
        "5, Diberikan data sebagai berikut:  \n",
        "> data_mahasiswa = [  \n",
        "    {\"nama\": \"Andi Wijaya\", \"program studi\": \"Teknik Informatika\", \"IPK\": 3.75},  \n",
        "    {\"nama\": \"Siti Nurhaliza\", \"program studi\": \"Manajemen\", \"IPK\": 3.60},  \n",
        "    {\"nama\": \"Budi Santoso\", \"program studi\": \"Akuntansi\", \"IPK\": 3.40},  \n",
        "    {\"nama\": \"Dewi Lestari\", \"program studi\": \"Kedokteran\", \"IPK\": 3.85},  \n",
        "    {\"nama\": \"Rizky Pratama\", \"program studi\": \"Teknik Elektro\", \"IPK\": 3.50},  \n",
        "    {\"nama\": \"Fitri Handayani\", \"program studi\": \"Ilmu Komunikasi\", \"IPK\": 3.70},  \n",
        "    {\"nama\": \"Joko Susanto\", \"program studi\": \"Hukum\", \"IPK\": 3.30},  \n",
        "    {\"nama\": \"Melati Kusuma\", \"program studi\": \"Psikologi\", \"IPK\": 3.90},  \n",
        "    {\"nama\": \"Agus Saputra\", \"program studi\": \"Statistika\", \"IPK\": 3.55},  \n",
        "    {\"nama\": \"Lina Permata\", \"program studi\": \"Sastra Inggris\", \"IPK\": 3.65}  \n",
        "]\n",
        "\n",
        "Dari data_mahasiswa tersebut, tolong keluarkan output dengan aturan dan format berikut:\n",
        "> Jika IPK >= 3.50 maka outputnya “Selamat, nama! Anda lolos seleksi berkas.”  \n",
        "Jika IPK < 3.50 maka outputnya “Maaf, nama! Anda belum beruntung.”\n",
        "\n",
        "(Hint: gunakan for loop dan string injection)\n"
      ],
      "metadata": {
        "id": "7HcWeoRMcoKy"
      }
    },
    {
      "cell_type": "code",
      "source": [
        "# Inisialisasi data\n",
        "data_mahasiswa = [\n",
        "    {\"nama\": \"Andi Wijaya\", \"program studi\": \"Teknik Informatika\", \"IPK\": 3.75},\n",
        "    {\"nama\": \"Siti Nurhaliza\", \"program studi\": \"Manajemen\", \"IPK\": 3.60},\n",
        "    {\"nama\": \"Budi Santoso\", \"program studi\": \"Akuntansi\", \"IPK\": 3.40},\n",
        "    {\"nama\": \"Dewi Lestari\", \"program studi\": \"Kedokteran\", \"IPK\": 3.85},\n",
        "    {\"nama\": \"Rizky Pratama\", \"program studi\": \"Teknik Elektro\", \"IPK\": 3.50},\n",
        "    {\"nama\": \"Fitri Handayani\", \"program studi\": \"Ilmu Komunikasi\", \"IPK\": 3.70},\n",
        "    {\"nama\": \"Joko Susanto\", \"program studi\": \"Hukum\", \"IPK\": 3.30},\n",
        "    {\"nama\": \"Melati Kusuma\", \"program studi\": \"Psikologi\", \"IPK\": 3.90},\n",
        "    {\"nama\": \"Agus Saputra\", \"program studi\": \"Statistika\", \"IPK\": 3.55},\n",
        "    {\"nama\": \"Lina Permata\", \"program studi\": \"Sastra Inggris\", \"IPK\": 3.65}\n",
        "]\n",
        "\n",
        "# Proses Seleksi dan Cetak Hasil\n",
        "print(\"--- Hasil Seleksi Berkas Mahasiswa ---\")\n",
        "\n",
        "for mahasiswa in data_mahasiswa:\n",
        "    # Mengambil nilai nama dan IPK dari dictionary untuk kemudahan pembacaan\n",
        "    nama = mahasiswa[\"nama\"]\n",
        "    ipk = mahasiswa[\"IPK\"]\n",
        "\n",
        "    # Menerapkan logika kondisional berdasarkan IPK\n",
        "    if ipk >= 3.50:\n",
        "        # Menggunakan f-string (string injection) untuk memformat output\n",
        "        print(f\"Selamat, {nama}! Anda lolos seleksi berkas.\")\n",
        "    else:\n",
        "        print(f\"Maaf, {nama}! Anda belum beruntung.\")"
      ],
      "metadata": {
        "colab": {
          "base_uri": "https://localhost:8080/"
        },
        "id": "931iSHGdcnoL",
        "outputId": "77d9553b-046b-4f43-eded-a5d7e219bf8b"
      },
      "execution_count": 16,
      "outputs": [
        {
          "output_type": "stream",
          "name": "stdout",
          "text": [
            "--- Hasil Seleksi Berkas Mahasiswa ---\n",
            "Selamat, Andi Wijaya! Anda lolos seleksi berkas.\n",
            "Selamat, Siti Nurhaliza! Anda lolos seleksi berkas.\n",
            "Maaf, Budi Santoso! Anda belum beruntung.\n",
            "Selamat, Dewi Lestari! Anda lolos seleksi berkas.\n",
            "Selamat, Rizky Pratama! Anda lolos seleksi berkas.\n",
            "Selamat, Fitri Handayani! Anda lolos seleksi berkas.\n",
            "Maaf, Joko Susanto! Anda belum beruntung.\n",
            "Selamat, Melati Kusuma! Anda lolos seleksi berkas.\n",
            "Selamat, Agus Saputra! Anda lolos seleksi berkas.\n",
            "Selamat, Lina Permata! Anda lolos seleksi berkas.\n"
          ]
        }
      ]
    }
  ]
}