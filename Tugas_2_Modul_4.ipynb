{
  "nbformat": 4,
  "nbformat_minor": 0,
  "metadata": {
    "colab": {
      "provenance": [],
      "authorship_tag": "ABX9TyNa3RRxrOtXn1E/x/xTYfKA"
    },
    "kernelspec": {
      "name": "python3",
      "display_name": "Python 3"
    },
    "language_info": {
      "name": "python"
    }
  },
  "cells": [
    {
      "cell_type": "markdown",
      "source": [
        "# Proyek Klasifikasi Teks: Deteksi Depresi dari Postingan Reddit  \n",
        "\n",
        "**Author:** Putrawin Adha Muzakki  \n",
        "\n",
        "## Dataset\n",
        "\n",
        "- **Sumber:** https://www.kaggle.com/datasets/infamouscoder/depression-reddit-cleaned\n",
        "- **Fitur (Feature):** `clean_text` - Postingan Reddit yang sudah melalui beberapa tahap pembersihan awal.\n",
        "- **Target (Label):** `is_depression` - Label biner (1 untuk depresi, 0 untuk non-depresi)."
      ],
      "metadata": {
        "id": "VA1smruo2ivi"
      }
    },
    {
      "cell_type": "markdown",
      "source": [
        "1.  **Setup Lingkungan:**\n",
        "    - Menghubungkan Google Colab dengan Google Drive untuk akses file.\n",
        "    - Mengimpor semua library yang dibutuhkan."
      ],
      "metadata": {
        "id": "xpd-Cnkq3JEa"
      }
    },
    {
      "cell_type": "code",
      "execution_count": 2,
      "metadata": {
        "colab": {
          "base_uri": "https://localhost:8080/"
        },
        "id": "DW6sA6YcwmY_",
        "outputId": "88f07da0-0f23-4a1c-d2a4-4b8e0e51dd45"
      },
      "outputs": [
        {
          "output_type": "stream",
          "name": "stdout",
          "text": [
            "Mounted at /content/drive\n"
          ]
        },
        {
          "output_type": "stream",
          "name": "stderr",
          "text": [
            "[nltk_data] Downloading package stopwords to /root/nltk_data...\n",
            "[nltk_data]   Unzipping corpora/stopwords.zip.\n",
            "[nltk_data] Downloading package wordnet to /root/nltk_data...\n",
            "[nltk_data] Downloading package omw-1.4 to /root/nltk_data...\n"
          ]
        }
      ],
      "source": [
        "# Menghubungkan Google Colab ke Google Drive\n",
        "from google.colab import drive\n",
        "drive.mount('/content/drive')\n",
        "\n",
        "# Import library fundamental\n",
        "import pandas as pd\n",
        "import numpy as np\n",
        "import matplotlib.pyplot as plt\n",
        "import seaborn as sns\n",
        "import re\n",
        "import nltk\n",
        "from nltk.corpus import stopwords\n",
        "from nltk.stem import WordNetLemmatizer\n",
        "\n",
        "# Download resource NLTK yang dibutuhkan\n",
        "nltk.download('stopwords')\n",
        "nltk.download('wordnet')\n",
        "nltk.download('omw-1.4')\n",
        "\n",
        "\n",
        "# Import library dari Scikit-Learn\n",
        "from sklearn.feature_extraction.text import TfidfVectorizer\n",
        "from sklearn.model_selection import train_test_split\n",
        "from sklearn.naive_bayes import MultinomialNB\n",
        "from sklearn.linear_model import LogisticRegression\n",
        "from sklearn.ensemble import RandomForestClassifier\n",
        "from sklearn.metrics import classification_report, confusion_matrix, accuracy_score\n",
        "\n",
        "# Atur style visualisasi\n",
        "sns.set_style('whitegrid')"
      ]
    },
    {
      "cell_type": "markdown",
      "source": [
        "2.  **Eksplorasi Data (EDA):** Memuat data, memeriksa distribusi kelas, dan menganalisis panjang teks."
      ],
      "metadata": {
        "id": "GQDg-biT3Vmr"
      }
    },
    {
      "cell_type": "code",
      "source": [
        "# Tentukan path file di Google Drive\n",
        "file_path = '/content/drive/MyDrive/Studi_Independen/Tugas 2 Modul 4/depression_dataset_reddit_cleaned.csv'\n",
        "\n",
        "# Muat data\n",
        "df = pd.read_csv(file_path)\n",
        "print(\"Ukuran dataset:\", df.shape)\n",
        "\n",
        "# Tampilkan beberapa baris pertama\n",
        "print(\"\\nContoh data:\")\n",
        "display(df.head())\n",
        "\n",
        "# Periksa missing values\n",
        "print(\"\\nJumlah missing values:\")\n",
        "print(df.isnull().sum())\n",
        "\n",
        "# Analisis distribusi kelas target\n",
        "plt.figure(figsize=(8, 5))\n",
        "sns.countplot(x='is_depression', data=df)\n",
        "plt.title('Distribusi Kelas (0: Non-Depresi, 1: Depresi)')\n",
        "plt.xlabel('Kelas')\n",
        "plt.ylabel('Jumlah')\n",
        "plt.show()\n",
        "\n",
        "print(\"\\nJumlah masing-masing kelas:\")\n",
        "print(df['is_depression'].value_counts())"
      ],
      "metadata": {
        "colab": {
          "base_uri": "https://localhost:8080/",
          "height": 919
        },
        "id": "KZVUMq6f0JaE",
        "outputId": "a5bda30c-0185-4667-889a-df30e145e0a5"
      },
      "execution_count": 3,
      "outputs": [
        {
          "output_type": "stream",
          "name": "stdout",
          "text": [
            "Ukuran dataset: (7731, 2)\n",
            "\n",
            "Contoh data:\n"
          ]
        },
        {
          "output_type": "display_data",
          "data": {
            "text/plain": [
              "                                          clean_text  is_depression\n",
              "0  we understand that most people who reply immed...              1\n",
              "1  welcome to r depression s check in post a plac...              1\n",
              "2  anyone else instead of sleeping more when depr...              1\n",
              "3  i ve kind of stuffed around a lot in my life d...              1\n",
              "4  sleep is my greatest and most comforting escap...              1"
            ],
            "text/html": [
              "\n",
              "  <div id=\"df-45a11740-323e-4043-b444-f9bb4b0223d7\" class=\"colab-df-container\">\n",
              "    <div>\n",
              "<style scoped>\n",
              "    .dataframe tbody tr th:only-of-type {\n",
              "        vertical-align: middle;\n",
              "    }\n",
              "\n",
              "    .dataframe tbody tr th {\n",
              "        vertical-align: top;\n",
              "    }\n",
              "\n",
              "    .dataframe thead th {\n",
              "        text-align: right;\n",
              "    }\n",
              "</style>\n",
              "<table border=\"1\" class=\"dataframe\">\n",
              "  <thead>\n",
              "    <tr style=\"text-align: right;\">\n",
              "      <th></th>\n",
              "      <th>clean_text</th>\n",
              "      <th>is_depression</th>\n",
              "    </tr>\n",
              "  </thead>\n",
              "  <tbody>\n",
              "    <tr>\n",
              "      <th>0</th>\n",
              "      <td>we understand that most people who reply immed...</td>\n",
              "      <td>1</td>\n",
              "    </tr>\n",
              "    <tr>\n",
              "      <th>1</th>\n",
              "      <td>welcome to r depression s check in post a plac...</td>\n",
              "      <td>1</td>\n",
              "    </tr>\n",
              "    <tr>\n",
              "      <th>2</th>\n",
              "      <td>anyone else instead of sleeping more when depr...</td>\n",
              "      <td>1</td>\n",
              "    </tr>\n",
              "    <tr>\n",
              "      <th>3</th>\n",
              "      <td>i ve kind of stuffed around a lot in my life d...</td>\n",
              "      <td>1</td>\n",
              "    </tr>\n",
              "    <tr>\n",
              "      <th>4</th>\n",
              "      <td>sleep is my greatest and most comforting escap...</td>\n",
              "      <td>1</td>\n",
              "    </tr>\n",
              "  </tbody>\n",
              "</table>\n",
              "</div>\n",
              "    <div class=\"colab-df-buttons\">\n",
              "\n",
              "  <div class=\"colab-df-container\">\n",
              "    <button class=\"colab-df-convert\" onclick=\"convertToInteractive('df-45a11740-323e-4043-b444-f9bb4b0223d7')\"\n",
              "            title=\"Convert this dataframe to an interactive table.\"\n",
              "            style=\"display:none;\">\n",
              "\n",
              "  <svg xmlns=\"http://www.w3.org/2000/svg\" height=\"24px\" viewBox=\"0 -960 960 960\">\n",
              "    <path d=\"M120-120v-720h720v720H120Zm60-500h600v-160H180v160Zm220 220h160v-160H400v160Zm0 220h160v-160H400v160ZM180-400h160v-160H180v160Zm440 0h160v-160H620v160ZM180-180h160v-160H180v160Zm440 0h160v-160H620v160Z\"/>\n",
              "  </svg>\n",
              "    </button>\n",
              "\n",
              "  <style>\n",
              "    .colab-df-container {\n",
              "      display:flex;\n",
              "      gap: 12px;\n",
              "    }\n",
              "\n",
              "    .colab-df-convert {\n",
              "      background-color: #E8F0FE;\n",
              "      border: none;\n",
              "      border-radius: 50%;\n",
              "      cursor: pointer;\n",
              "      display: none;\n",
              "      fill: #1967D2;\n",
              "      height: 32px;\n",
              "      padding: 0 0 0 0;\n",
              "      width: 32px;\n",
              "    }\n",
              "\n",
              "    .colab-df-convert:hover {\n",
              "      background-color: #E2EBFA;\n",
              "      box-shadow: 0px 1px 2px rgba(60, 64, 67, 0.3), 0px 1px 3px 1px rgba(60, 64, 67, 0.15);\n",
              "      fill: #174EA6;\n",
              "    }\n",
              "\n",
              "    .colab-df-buttons div {\n",
              "      margin-bottom: 4px;\n",
              "    }\n",
              "\n",
              "    [theme=dark] .colab-df-convert {\n",
              "      background-color: #3B4455;\n",
              "      fill: #D2E3FC;\n",
              "    }\n",
              "\n",
              "    [theme=dark] .colab-df-convert:hover {\n",
              "      background-color: #434B5C;\n",
              "      box-shadow: 0px 1px 3px 1px rgba(0, 0, 0, 0.15);\n",
              "      filter: drop-shadow(0px 1px 2px rgba(0, 0, 0, 0.3));\n",
              "      fill: #FFFFFF;\n",
              "    }\n",
              "  </style>\n",
              "\n",
              "    <script>\n",
              "      const buttonEl =\n",
              "        document.querySelector('#df-45a11740-323e-4043-b444-f9bb4b0223d7 button.colab-df-convert');\n",
              "      buttonEl.style.display =\n",
              "        google.colab.kernel.accessAllowed ? 'block' : 'none';\n",
              "\n",
              "      async function convertToInteractive(key) {\n",
              "        const element = document.querySelector('#df-45a11740-323e-4043-b444-f9bb4b0223d7');\n",
              "        const dataTable =\n",
              "          await google.colab.kernel.invokeFunction('convertToInteractive',\n",
              "                                                    [key], {});\n",
              "        if (!dataTable) return;\n",
              "\n",
              "        const docLinkHtml = 'Like what you see? Visit the ' +\n",
              "          '<a target=\"_blank\" href=https://colab.research.google.com/notebooks/data_table.ipynb>data table notebook</a>'\n",
              "          + ' to learn more about interactive tables.';\n",
              "        element.innerHTML = '';\n",
              "        dataTable['output_type'] = 'display_data';\n",
              "        await google.colab.output.renderOutput(dataTable, element);\n",
              "        const docLink = document.createElement('div');\n",
              "        docLink.innerHTML = docLinkHtml;\n",
              "        element.appendChild(docLink);\n",
              "      }\n",
              "    </script>\n",
              "  </div>\n",
              "\n",
              "\n",
              "    <div id=\"df-d9a21f37-d5c7-493d-8e4f-09d4ffc8cdde\">\n",
              "      <button class=\"colab-df-quickchart\" onclick=\"quickchart('df-d9a21f37-d5c7-493d-8e4f-09d4ffc8cdde')\"\n",
              "                title=\"Suggest charts\"\n",
              "                style=\"display:none;\">\n",
              "\n",
              "<svg xmlns=\"http://www.w3.org/2000/svg\" height=\"24px\"viewBox=\"0 0 24 24\"\n",
              "     width=\"24px\">\n",
              "    <g>\n",
              "        <path d=\"M19 3H5c-1.1 0-2 .9-2 2v14c0 1.1.9 2 2 2h14c1.1 0 2-.9 2-2V5c0-1.1-.9-2-2-2zM9 17H7v-7h2v7zm4 0h-2V7h2v10zm4 0h-2v-4h2v4z\"/>\n",
              "    </g>\n",
              "</svg>\n",
              "      </button>\n",
              "\n",
              "<style>\n",
              "  .colab-df-quickchart {\n",
              "      --bg-color: #E8F0FE;\n",
              "      --fill-color: #1967D2;\n",
              "      --hover-bg-color: #E2EBFA;\n",
              "      --hover-fill-color: #174EA6;\n",
              "      --disabled-fill-color: #AAA;\n",
              "      --disabled-bg-color: #DDD;\n",
              "  }\n",
              "\n",
              "  [theme=dark] .colab-df-quickchart {\n",
              "      --bg-color: #3B4455;\n",
              "      --fill-color: #D2E3FC;\n",
              "      --hover-bg-color: #434B5C;\n",
              "      --hover-fill-color: #FFFFFF;\n",
              "      --disabled-bg-color: #3B4455;\n",
              "      --disabled-fill-color: #666;\n",
              "  }\n",
              "\n",
              "  .colab-df-quickchart {\n",
              "    background-color: var(--bg-color);\n",
              "    border: none;\n",
              "    border-radius: 50%;\n",
              "    cursor: pointer;\n",
              "    display: none;\n",
              "    fill: var(--fill-color);\n",
              "    height: 32px;\n",
              "    padding: 0;\n",
              "    width: 32px;\n",
              "  }\n",
              "\n",
              "  .colab-df-quickchart:hover {\n",
              "    background-color: var(--hover-bg-color);\n",
              "    box-shadow: 0 1px 2px rgba(60, 64, 67, 0.3), 0 1px 3px 1px rgba(60, 64, 67, 0.15);\n",
              "    fill: var(--button-hover-fill-color);\n",
              "  }\n",
              "\n",
              "  .colab-df-quickchart-complete:disabled,\n",
              "  .colab-df-quickchart-complete:disabled:hover {\n",
              "    background-color: var(--disabled-bg-color);\n",
              "    fill: var(--disabled-fill-color);\n",
              "    box-shadow: none;\n",
              "  }\n",
              "\n",
              "  .colab-df-spinner {\n",
              "    border: 2px solid var(--fill-color);\n",
              "    border-color: transparent;\n",
              "    border-bottom-color: var(--fill-color);\n",
              "    animation:\n",
              "      spin 1s steps(1) infinite;\n",
              "  }\n",
              "\n",
              "  @keyframes spin {\n",
              "    0% {\n",
              "      border-color: transparent;\n",
              "      border-bottom-color: var(--fill-color);\n",
              "      border-left-color: var(--fill-color);\n",
              "    }\n",
              "    20% {\n",
              "      border-color: transparent;\n",
              "      border-left-color: var(--fill-color);\n",
              "      border-top-color: var(--fill-color);\n",
              "    }\n",
              "    30% {\n",
              "      border-color: transparent;\n",
              "      border-left-color: var(--fill-color);\n",
              "      border-top-color: var(--fill-color);\n",
              "      border-right-color: var(--fill-color);\n",
              "    }\n",
              "    40% {\n",
              "      border-color: transparent;\n",
              "      border-right-color: var(--fill-color);\n",
              "      border-top-color: var(--fill-color);\n",
              "    }\n",
              "    60% {\n",
              "      border-color: transparent;\n",
              "      border-right-color: var(--fill-color);\n",
              "    }\n",
              "    80% {\n",
              "      border-color: transparent;\n",
              "      border-right-color: var(--fill-color);\n",
              "      border-bottom-color: var(--fill-color);\n",
              "    }\n",
              "    90% {\n",
              "      border-color: transparent;\n",
              "      border-bottom-color: var(--fill-color);\n",
              "    }\n",
              "  }\n",
              "</style>\n",
              "\n",
              "      <script>\n",
              "        async function quickchart(key) {\n",
              "          const quickchartButtonEl =\n",
              "            document.querySelector('#' + key + ' button');\n",
              "          quickchartButtonEl.disabled = true;  // To prevent multiple clicks.\n",
              "          quickchartButtonEl.classList.add('colab-df-spinner');\n",
              "          try {\n",
              "            const charts = await google.colab.kernel.invokeFunction(\n",
              "                'suggestCharts', [key], {});\n",
              "          } catch (error) {\n",
              "            console.error('Error during call to suggestCharts:', error);\n",
              "          }\n",
              "          quickchartButtonEl.classList.remove('colab-df-spinner');\n",
              "          quickchartButtonEl.classList.add('colab-df-quickchart-complete');\n",
              "        }\n",
              "        (() => {\n",
              "          let quickchartButtonEl =\n",
              "            document.querySelector('#df-d9a21f37-d5c7-493d-8e4f-09d4ffc8cdde button');\n",
              "          quickchartButtonEl.style.display =\n",
              "            google.colab.kernel.accessAllowed ? 'block' : 'none';\n",
              "        })();\n",
              "      </script>\n",
              "    </div>\n",
              "\n",
              "    </div>\n",
              "  </div>\n"
            ],
            "application/vnd.google.colaboratory.intrinsic+json": {
              "type": "dataframe",
              "summary": "{\n  \"name\": \"print(df['is_depression']\",\n  \"rows\": 5,\n  \"fields\": [\n    {\n      \"column\": \"clean_text\",\n      \"properties\": {\n        \"dtype\": \"string\",\n        \"num_unique_values\": 5,\n        \"samples\": [\n          \"welcome to r depression s check in post a place to take a moment and share what is going on and how you are doing if you have an accomplishment you want to talk about these shouldn t be standalone post in the sub a they violate the role model rule but are welcome here or are having a tough time but prefer not to make your own post this is a place you can share our subreddit rule are located in the sidebar you can also always access them at r depression about rule since all of them exist for important safety reason we ask everyone here to read and follow them please click report on any harmful content you see here we always want to know and deal a soon a we can we also have several wikis there for help with finding and giving support r depression wiki what is depression provides guidance about what is and isn t a depressive disorder guidance on the complex nature of the illness that are usually grouped under the depression label and redirect information for common off topic issue r depression wiki giving help offer information on the nature and value of peer support for mental health issue in general and lot of guidance for learning what is and isn t usually helpful in giving peer support ysk that the type of rule violation that we most frequently see interfering with people getting safe and relevant support here are people breaking the private contact rule you should never trust anyone who try to get you into a private conversation in response to a post here see r depression wiki private contact i m here to help post this show that you don t understand the most basic principle of peer support especially selectivity the giving help wiki explains more about this role modelling i e achievement or advice post this is an expert free zone that s what peer support mean rule we know that internet culture celebrate not just bragging about your achievement but bragging about your good intention nothing like that is ever acceptable here content that s more about making a statement or casually polling the sub than seeking personal support or in a comment giving it rule and 0 off topic post about difficult situation or circumstance including interpersonal loss grief sadness anger and other difficult emotion are not mental illness the what is depression wiki ha suggestion for other place to post about these issue which are 00 valid and serious but inappropriate here\",\n          \"sleep is my greatest and most comforting escape whenever i wake up these day the literal very first emotion i feel is just misery and reminding myself of all my problem i can t even have a single second to myself it s like waking up everyday is just welcoming yourself back to hell\",\n          \"anyone else instead of sleeping more when depressed stay up all night to avoid the next day from coming sooner may be the social anxiety in me but life is so much more peaceful when everyone else is asleep and not expecting thing of you\"\n        ],\n        \"semantic_type\": \"\",\n        \"description\": \"\"\n      }\n    },\n    {\n      \"column\": \"is_depression\",\n      \"properties\": {\n        \"dtype\": \"number\",\n        \"std\": 0,\n        \"min\": 1,\n        \"max\": 1,\n        \"num_unique_values\": 1,\n        \"samples\": [\n          1\n        ],\n        \"semantic_type\": \"\",\n        \"description\": \"\"\n      }\n    }\n  ]\n}"
            }
          },
          "metadata": {}
        },
        {
          "output_type": "stream",
          "name": "stdout",
          "text": [
            "\n",
            "Jumlah missing values:\n",
            "clean_text       0\n",
            "is_depression    0\n",
            "dtype: int64\n"
          ]
        },
        {
          "output_type": "display_data",
          "data": {
            "text/plain": [
              "<Figure size 800x500 with 1 Axes>"
            ],
            "image/png": "[encoded data removed]"
          },
          "metadata": {}
        },
        {
          "output_type": "stream",
          "name": "stdout",
          "text": [
            "\n",
            "Jumlah masing-masing kelas:\n",
            "is_depression\n",
            "0    3900\n",
            "1    3831\n",
            "Name: count, dtype: int64\n"
          ]
        }
      ]
    },
    {
      "cell_type": "markdown",
      "source": [
        "3.  **Text Preprocessing:** Membersihkan teks lebih lanjut dengan menghapus stopwords."
      ],
      "metadata": {
        "id": "rdiIHBR83lRA"
      }
    },
    {
      "cell_type": "code",
      "source": [
        "# Inisialisasi Lemmatizer dan Stopwords\n",
        "lemmatizer = WordNetLemmatizer()\n",
        "stop_words = set(stopwords.words('english'))\n",
        "\n",
        "def preprocess_text(text):\n",
        "    # 1. Hapus karakter non-alfabet dan ubah ke huruf kecil\n",
        "    text = re.sub('[^a-zA-Z]', ' ', text).lower()\n",
        "\n",
        "    # 2. Tokenisasi (memecah teks menjadi kata-kata)\n",
        "    words = text.split()\n",
        "\n",
        "    # 3. Hapus stopwords dan lakukan lemmatization\n",
        "    words = [lemmatizer.lemmatize(word) for word in words if word not in stop_words]\n",
        "\n",
        "    # 4. Gabungkan kembali menjadi satu string\n",
        "    return ' '.join(words)\n",
        "\n",
        "# Terapkan fungsi preprocessing ke kolom 'clean_text'\n",
        "print(\"Memulai preprocessing teks...\")\n",
        "df['processed_text'] = df['clean_text'].apply(preprocess_text)\n",
        "print(\"Preprocessing selesai.\")\n",
        "\n",
        "# Tampilkan perbandingan sebelum dan sesudah\n",
        "print(\"\\nContoh Teks Sebelum Preprocessing:\")\n",
        "print(df['clean_text'].iloc[2])\n",
        "print(\"\\nContoh Teks Sesudah Preprocessing:\")\n",
        "print(df['processed_text'].iloc[2])"
      ],
      "metadata": {
        "colab": {
          "base_uri": "https://localhost:8080/"
        },
        "id": "Yjia3auF0--k",
        "outputId": "bb4ebdaf-1a03-45a9-e98b-a6fe1a328478"
      },
      "execution_count": 4,
      "outputs": [
        {
          "output_type": "stream",
          "name": "stdout",
          "text": [
            "Memulai preprocessing teks...\n",
            "Preprocessing selesai.\n",
            "\n",
            "Contoh Teks Sebelum Preprocessing:\n",
            "anyone else instead of sleeping more when depressed stay up all night to avoid the next day from coming sooner may be the social anxiety in me but life is so much more peaceful when everyone else is asleep and not expecting thing of you\n",
            "\n",
            "Contoh Teks Sesudah Preprocessing:\n",
            "anyone else instead sleeping depressed stay night avoid next day coming sooner may social anxiety life much peaceful everyone else asleep expecting thing\n"
          ]
        }
      ]
    },
    {
      "cell_type": "markdown",
      "source": [
        "4.  **Feature Engineering:** Teks yang sudah bersih diubah menjadi representasi numerik menggunakan **TF-IDF Vectorizer** dengan `max_features=5000` dan `ngram_range=(1,2)`.\n",
        "5.  **Pemisahan Data:** Dataset dibagi menjadi 80% data training dan 20% data testing."
      ],
      "metadata": {
        "id": "hO-ZNH9i3yL1"
      }
    },
    {
      "cell_type": "code",
      "source": [
        "# Pisahkan fitur (X) dan target (y)\n",
        "X = df['processed_text']\n",
        "y = df['is_depression']\n",
        "\n",
        "# Bagi data menjadi data training (80%) dan data testing (20%)\n",
        "# Stratify=y memastikan proporsi kelas di train dan test set sama\n",
        "X_train, X_test, y_train, y_test = train_test_split(X, y, test_size=0.2, random_state=42, stratify=y)\n",
        "\n",
        "# Inisialisasi TF-IDF Vectorizer\n",
        "# max_features=5000 berarti kita hanya akan menggunakan 5000 kata paling penting\n",
        "tfidf = TfidfVectorizer(max_features=5000, ngram_range=(1,2))\n",
        "\n",
        "# Fit vectorizer HANYA pada data training dan transform\n",
        "X_train_tfidf = tfidf.fit_transform(X_train)\n",
        "\n",
        "# Transform data testing menggunakan vectorizer yang sudah di-fit\n",
        "X_test_tfidf = tfidf.transform(X_test)\n",
        "\n",
        "print(f\"Bentuk matriks TF-IDF untuk data training: {X_train_tfidf.shape}\")\n",
        "print(f\"Bentuk matriks TF-IDF untuk data testing: {X_test_tfidf.shape}\")"
      ],
      "metadata": {
        "colab": {
          "base_uri": "https://localhost:8080/"
        },
        "id": "cz-BNy5M1Dcp",
        "outputId": "0696657e-e6d0-47b3-87f9-ebee29825959"
      },
      "execution_count": 5,
      "outputs": [
        {
          "output_type": "stream",
          "name": "stdout",
          "text": [
            "Bentuk matriks TF-IDF untuk data training: (6184, 5000)\n",
            "Bentuk matriks TF-IDF untuk data testing: (1547, 5000)\n"
          ]
        }
      ]
    },
    {
      "cell_type": "markdown",
      "source": [
        "5.  **Pemodelan:** Tiga model klasifikasi dilatih dan dievaluasi:\n",
        "    - Multinomial Naive Bayes\n",
        "    - Logistic Regression\n",
        "    - Random Forest Classifier"
      ],
      "metadata": {
        "id": "GlxTpWnT4gqk"
      }
    },
    {
      "cell_type": "code",
      "source": [
        "def evaluate_model(model, model_name):\n",
        "    \"\"\"Fungsi untuk melatih, memprediksi, dan mengevaluasi model.\"\"\"\n",
        "    print(f\"--- Melatih dan Mengevaluasi: {model_name} ---\")\n",
        "\n",
        "    # Latih model\n",
        "    model.fit(X_train_tfidf, y_train)\n",
        "\n",
        "    # Buat prediksi\n",
        "    y_pred = model.predict(X_test_tfidf)\n",
        "\n",
        "    # Evaluasi\n",
        "    accuracy = accuracy_score(y_test, y_pred)\n",
        "    report = classification_report(y_test, y_pred)\n",
        "    cm = confusion_matrix(y_test, y_pred)\n",
        "\n",
        "    print(f\"Accuracy: {accuracy:.4f}\\n\")\n",
        "    print(\"Classification Report:\\n\", report)\n",
        "\n",
        "    # Visualisasi Confusion Matrix\n",
        "    plt.figure(figsize=(6, 4))\n",
        "    sns.heatmap(cm, annot=True, fmt='d', cmap='Blues', xticklabels=['Non-Depresi', 'Depresi'], yticklabels=['Non-Depresi', 'Depresi'])\n",
        "    plt.xlabel('Prediksi')\n",
        "    plt.ylabel('Aktual')\n",
        "    plt.title(f'Confusion Matrix - {model_name}')\n",
        "    plt.show()\n",
        "    print(\"\\n\" + \"=\"*50 + \"\\n\")\n",
        "\n",
        "# Inisialisasi model-model yang akan digunakan\n",
        "models = {\n",
        "    \"Multinomial Naive Bayes\": MultinomialNB(),\n",
        "    \"Logistic Regression\": LogisticRegression(random_state=42, max_iter=1000),\n",
        "    \"Random Forest\": RandomForestClassifier(n_estimators=100, random_state=42)\n",
        "}\n",
        "\n",
        "# Latih dan evaluasi setiap model\n",
        "for name, model in models.items():\n",
        "    evaluate_model(model, name)"
      ],
      "metadata": {
        "colab": {
          "base_uri": "https://localhost:8080/",
          "height": 1000
        },
        "id": "wjYrEEoj1J_P",
        "outputId": "d8e0b648-39da-42e7-f7da-8ad54d3d2aba"
      },
      "execution_count": 6,
      "outputs": [
        {
          "output_type": "stream",
          "name": "stdout",
          "text": [
            "--- Melatih dan Mengevaluasi: Multinomial Naive Bayes ---\n",
            "Accuracy: 0.9024\n",
            "\n",
            "Classification Report:\n",
            "               precision    recall  f1-score   support\n",
            "\n",
            "           0       0.96      0.85      0.90       780\n",
            "           1       0.86      0.96      0.91       767\n",
            "\n",
            "    accuracy                           0.90      1547\n",
            "   macro avg       0.91      0.90      0.90      1547\n",
            "weighted avg       0.91      0.90      0.90      1547\n",
            "\n"
          ]
        },
        {
          "output_type": "display_data",
          "data": {
            "text/plain": [
              "<Figure size 600x400 with 2 Axes>"
            ],
            "image/png": "[encoded data removed]"
          },
          "metadata": {}
        },
        {
          "output_type": "stream",
          "name": "stdout",
          "text": [
            "\n",
            "==================================================\n",
            "\n",
            "--- Melatih dan Mengevaluasi: Logistic Regression ---\n",
            "Accuracy: 0.9586\n",
            "\n",
            "Classification Report:\n",
            "               precision    recall  f1-score   support\n",
            "\n",
            "           0       0.94      0.98      0.96       780\n",
            "           1       0.98      0.94      0.96       767\n",
            "\n",
            "    accuracy                           0.96      1547\n",
            "   macro avg       0.96      0.96      0.96      1547\n",
            "weighted avg       0.96      0.96      0.96      1547\n",
            "\n"
          ]
        },
        {
          "output_type": "display_data",
          "data": {
            "text/plain": [
              "<Figure size 600x400 with 2 Axes>"
            ],
            "image/png": "[encoded data removed]"
          },
          "metadata": {}
        },
        {
          "output_type": "stream",
          "name": "stdout",
          "text": [
            "\n",
            "==================================================\n",
            "\n",
            "--- Melatih dan Mengevaluasi: Random Forest ---\n",
            "Accuracy: 0.9612\n",
            "\n",
            "Classification Report:\n",
            "               precision    recall  f1-score   support\n",
            "\n",
            "           0       0.94      0.99      0.96       780\n",
            "           1       0.99      0.93      0.96       767\n",
            "\n",
            "    accuracy                           0.96      1547\n",
            "   macro avg       0.96      0.96      0.96      1547\n",
            "weighted avg       0.96      0.96      0.96      1547\n",
            "\n"
          ]
        },
        {
          "output_type": "display_data",
          "data": {
            "text/plain": [
              "<Figure size 600x400 with 2 Axes>"
            ],
            "image/png": "[encoded data removed]"
          },
          "metadata": {}
        },
        {
          "output_type": "stream",
          "name": "stdout",
          "text": [
            "\n",
            "==================================================\n",
            "\n"
          ]
        }
      ]
    },
    {
      "cell_type": "markdown",
      "source": [
        "## Hasil & Pembahasan\n",
        "\n",
        "Berdasarkan evaluasi pada data testing, berikut adalah ringkasan performa dari ketiga model:\n",
        "\n",
        "| Model | Accuracy | Recall (Kelas 1) | Precision (Kelas 1) | False Negatives (FN) |\n",
        "| :--- | :---: | :---: | :---: | :---: |\n",
        "| **Multinomial Naive Bayes** | **~90.2%** | **~96.0%** | ~86.0% | **31** |\n",
        "| Logistic Regression | ~95.9% | ~93.7% | ~97.8% | 48 |\n",
        "| Random Forest Classifier | ~96.1% | ~93.3% | **~98.8%** | 51 |"
      ],
      "metadata": {
        "id": "SpAPRQLe4p-W"
      }
    },
    {
      "cell_type": "markdown",
      "source": [
        "### Analisis Individual Model:\n",
        "\n",
        "*   **Multinomial Naive Bayes:**\n",
        "    Model ini menunjukkan **Recall tertinggi** untuk kelas depresi (96%). Artinya, ia sangat efektif dalam mengidentifikasi sebagian besar postingan yang memang mengindikasikan depresi, dengan hanya melewatkan 31 kasus. Namun, kelemahannya adalah Precision yang lebih rendah, yang terlihat dari 120 False Positives (salah memprediksi non-depresi sebagai depresi). Model ini bersifat sangat sensitif.\n",
        "\n",
        "*   **Logistic Regression:**\n",
        "    Model ini memberikan keseimbangan yang sangat baik antara Precision dan Recall. Dengan akurasi keseluruhan 95.9% dan Precision yang sangat tinggi untuk kelas depresi (97.8%), prediksi positifnya sangat dapat diandalkan. Namun, ia melewatkan 48 kasus depresi, lebih banyak dari Naive Bayes.\n",
        "\n",
        "*   **Random Forest Classifier:**\n",
        "    Model ini memiliki **Precision tertinggi** (98.8%), artinya jika ia memprediksi sebuah teks sebagai \"depresi\", hampir pasti prediksinya benar. Ini ditunjukkan dengan hanya 9 False Positives. Namun, ini dicapai dengan mengorbankan Recall, karena model ini memiliki **False Negatives tertinggi** (melewatkan 51 kasus depresi)."
      ],
      "metadata": {
        "id": "gWWGKj-O4wym"
      }
    }
  ]
}